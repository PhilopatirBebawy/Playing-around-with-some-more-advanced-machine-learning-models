{
  "nbformat": 4,
  "nbformat_minor": 0,
  "metadata": {
    "colab": {
      "name": "Playing around with some more advanced Machine Learning models",
      "provenance": []
    },
    "kernelspec": {
      "name": "python3",
      "display_name": "Python 3"
    },
    "language_info": {
      "name": "python"
    }
  },
  "cells": [
    {
      "cell_type": "markdown",
      "metadata": {
        "id": "FJP5Xn1ydIwa"
      },
      "source": [
        "\n",
        "## **Creating a K-Means Clustering Algorithm**"
      ]
    },
    {
      "cell_type": "code",
      "metadata": {
        "id": "dXy0qeujdWCx"
      },
      "source": [
        "import matplotlib.pyplot as plt\n",
        "import numpy as np\n",
        "import pandas as pd\n",
        "from math import sqrt"
      ],
      "execution_count": null,
      "outputs": []
    },
    {
      "cell_type": "code",
      "metadata": {
        "colab": {
          "base_uri": "https://localhost:8080/",
          "height": 424
        },
        "id": "dZfB7YCiyznc",
        "outputId": "fcac0a9d-fd50-4bd1-aacc-6beb8e4f0652"
      },
      "source": [
        "houseData= pd.read_csv('DMV302_Assessment_2_HouseholdWealth.csv',)\n",
        "houseData"
      ],
      "execution_count": null,
      "outputs": [
        {
          "output_type": "execute_result",
          "data": {
            "text/html": [
              "<div>\n",
              "<style scoped>\n",
              "    .dataframe tbody tr th:only-of-type {\n",
              "        vertical-align: middle;\n",
              "    }\n",
              "\n",
              "    .dataframe tbody tr th {\n",
              "        vertical-align: top;\n",
              "    }\n",
              "\n",
              "    .dataframe thead th {\n",
              "        text-align: right;\n",
              "    }\n",
              "</style>\n",
              "<table border=\"1\" class=\"dataframe\">\n",
              "  <thead>\n",
              "    <tr style=\"text-align: right;\">\n",
              "      <th></th>\n",
              "      <th>household_total_assets</th>\n",
              "      <th>annual_household_income</th>\n",
              "    </tr>\n",
              "  </thead>\n",
              "  <tbody>\n",
              "    <tr>\n",
              "      <th>0</th>\n",
              "      <td>1230531</td>\n",
              "      <td>15724</td>\n",
              "    </tr>\n",
              "    <tr>\n",
              "      <th>1</th>\n",
              "      <td>4877446</td>\n",
              "      <td>124751</td>\n",
              "    </tr>\n",
              "    <tr>\n",
              "      <th>2</th>\n",
              "      <td>4430878</td>\n",
              "      <td>124372</td>\n",
              "    </tr>\n",
              "    <tr>\n",
              "      <th>3</th>\n",
              "      <td>1954751</td>\n",
              "      <td>179311</td>\n",
              "    </tr>\n",
              "    <tr>\n",
              "      <th>4</th>\n",
              "      <td>2179963</td>\n",
              "      <td>56355</td>\n",
              "    </tr>\n",
              "    <tr>\n",
              "      <th>...</th>\n",
              "      <td>...</td>\n",
              "      <td>...</td>\n",
              "    </tr>\n",
              "    <tr>\n",
              "      <th>995</th>\n",
              "      <td>4006949</td>\n",
              "      <td>253042</td>\n",
              "    </tr>\n",
              "    <tr>\n",
              "      <th>996</th>\n",
              "      <td>3816007</td>\n",
              "      <td>32384</td>\n",
              "    </tr>\n",
              "    <tr>\n",
              "      <th>997</th>\n",
              "      <td>985874</td>\n",
              "      <td>196997</td>\n",
              "    </tr>\n",
              "    <tr>\n",
              "      <th>998</th>\n",
              "      <td>482927</td>\n",
              "      <td>35603</td>\n",
              "    </tr>\n",
              "    <tr>\n",
              "      <th>999</th>\n",
              "      <td>30641</td>\n",
              "      <td>93254</td>\n",
              "    </tr>\n",
              "  </tbody>\n",
              "</table>\n",
              "<p>1000 rows × 2 columns</p>\n",
              "</div>"
            ],
            "text/plain": [
              "     household_total_assets  annual_household_income\n",
              "0                   1230531                    15724\n",
              "1                   4877446                   124751\n",
              "2                   4430878                   124372\n",
              "3                   1954751                   179311\n",
              "4                   2179963                    56355\n",
              "..                      ...                      ...\n",
              "995                 4006949                   253042\n",
              "996                 3816007                    32384\n",
              "997                  985874                   196997\n",
              "998                  482927                    35603\n",
              "999                   30641                    93254\n",
              "\n",
              "[1000 rows x 2 columns]"
            ]
          },
          "metadata": {},
          "execution_count": 4
        }
      ]
    },
    {
      "cell_type": "code",
      "metadata": {
        "id": "s60ennsInZzZ"
      },
      "source": [
        "df"
      ],
      "execution_count": null,
      "outputs": []
    },
    {
      "cell_type": "code",
      "metadata": {
        "id": "mZzw3M29dYEd",
        "colab": {
          "base_uri": "https://localhost:8080/",
          "height": 278
        },
        "outputId": "e6bcf0d3-4435-4e3c-895f-72f3056ac7cb"
      },
      "source": [
        "X=houseData[[\"household_total_assets\",\"annual_household_income\"]]\n",
        "plt.scatter(X[\"household_total_assets\"], X[\"annual_household_income\"],c=\"blue\")\n",
        "plt.xlabel(\"Household Total Assets\")\n",
        "plt.ylabel(\"Annual Household Income\")\n",
        "plt.show()"
      ],
      "execution_count": null,
      "outputs": [
        {
          "output_type": "display_data",
          "data": {
            "image/png": "[encoded data removed]",
            "text/plain": [
              "<Figure size 432x288 with 1 Axes>"
            ]
          },
          "metadata": {
            "needs_background": "light"
          }
        }
      ]
    },
    {
      "cell_type": "markdown",
      "metadata": {
        "id": "KX70jwxy1LK_"
      },
      "source": [
        ""
      ]
    },
    {
      "cell_type": "code",
      "metadata": {
        "colab": {
          "base_uri": "https://localhost:8080/",
          "height": 278
        },
        "id": "NOB44Xt7kL4V",
        "outputId": "79ba31c7-42fe-4607-d6b0-665265c62d6e"
      },
      "source": [
        "K=3\n",
        "Centroids = (X.sample(n=K))\n",
        "plt.scatter(X[\"household_total_assets\"], X[\"annual_household_income\"], c=\"blue\")\n",
        "plt.scatter(Centroids[\"household_total_assets\"], Centroids[\"annual_household_income\"], c=\"red\")\n",
        "plt.xlabel(\"Household Total Assets\")\n",
        "plt.ylabel(\"Annual Household Income\")\n",
        "plt.show()"
      ],
      "execution_count": null,
      "outputs": [
        {
          "output_type": "display_data",
          "data": {
            "image/png": "[encoded data removed]",
            "text/plain": [
              "<Figure size 432x288 with 1 Axes>"
            ]
          },
          "metadata": {
            "needs_background": "light"
          }
        }
      ]
    },
    {
      "cell_type": "code",
      "metadata": {
        "colab": {
          "base_uri": "https://localhost:8080/"
        },
        "id": "9QmHAAu3m5Y3",
        "outputId": "bb3b4bc2-4cb0-42aa-83c9-7072733b3212"
      },
      "source": [
        "diff = 1\n",
        "j=0\n",
        "\n",
        "while(diff!=0):\n",
        "    XD=X\n",
        "    i=1\n",
        "    for index1, row_c in Centroids.iterrows():\n",
        "        ED=[]\n",
        "        for index2, row_d in XD.iterrows():\n",
        "            d1 = (row_c[\"household_total_assets\"]-row_d[\"household_total_assets\"])**2\n",
        "            d2 = (row_c[\"annual_household_income\"]-row_d[\"annual_household_income\"])**2\n",
        "            d = sqrt(d1+d2)\n",
        "            ED.append(d)\n",
        "        X[i] = ED\n",
        "        i = i+1\n",
        "    \n",
        "    C = []\n",
        "    for index, row in X.iterrows():\n",
        "        min_dist=row[1]\n",
        "        pos=1\n",
        "        for i in range(K):\n",
        "            if row[i+1] < min_dist:\n",
        "                min_dist = row[i+1]\n",
        "                pos = i+1\n",
        "        C.append(pos)\n",
        "    X[\"Cluster\"]=C\n",
        "    Centroids_new = X.groupby([\"Cluster\"]).mean()[[\"annual_household_income\", \"household_total_assets\"]]\n",
        "    if j == 0:\n",
        "        diff = 1\n",
        "        j = j+1\n",
        "    else:\n",
        "        diff = (Centroids_new['annual_household_income'] - Centroids['annual_household_income']).sum() + (Centroids_new['household_total_assets'] - Centroids['household_total_assets']).sum()\n",
        "        print(diff.sum())\n",
        "    Centroids = X.groupby([\"Cluster\"]).mean()[[\"annual_household_income\",\"household_total_assets\"]]"
      ],
      "execution_count": null,
      "outputs": [
        {
          "output_type": "stream",
          "name": "stdout",
          "text": [
            "374083.0500869431\n",
            "331634.3007675089\n",
            "226552.94912864748\n",
            "208674.7137548359\n",
            "127267.14301154323\n",
            "82864.39518506997\n",
            "102424.88087851967\n",
            "81869.26800357987\n",
            "30827.941971786873\n",
            "20575.745712263713\n",
            "26014.590416946652\n",
            "15512.839115182607\n",
            "5229.127731075423\n",
            "0.0\n"
          ]
        }
      ]
    },
    {
      "cell_type": "code",
      "metadata": {
        "colab": {
          "base_uri": "https://localhost:8080/",
          "height": 278
        },
        "id": "XRyXZ_n6nDa2",
        "outputId": "4f105f38-c77d-49d7-e33e-678410bd341d"
      },
      "source": [
        "color=['orange','yellow','cyan']\n",
        "for k in range(K):\n",
        "    data=X[X[\"Cluster\"]==k+1]\n",
        "    plt.scatter(data[\"household_total_assets\"],data[\"annual_household_income\"],c=color[k])\n",
        "plt.scatter(Centroids[\"household_total_assets\"],Centroids[\"annual_household_income\"],c='red')\n",
        "plt.xlabel('Household Total Assets')\n",
        "plt.ylabel('Annual Household Income')\n",
        "plt.show()"
      ],
      "execution_count": null,
      "outputs": [
        {
          "output_type": "display_data",
          "data": {
            "image/png": "[encoded data removed]",
            "text/plain": [
              "<Figure size 432x288 with 1 Axes>"
            ]
          },
          "metadata": {
            "needs_background": "light"
          }
        }
      ]
    },
    {
      "cell_type": "markdown",
      "metadata": {
        "id": "ijdeC2xCtOLG"
      },
      "source": [
        "# Creating a Multi layered NN"
      ]
    },
    {
      "cell_type": "code",
      "metadata": {
        "id": "2d3-MLu9t2RY"
      },
      "source": [
        "import pandas as pd\n",
        "import numpy as np \n",
        "import matplotlib.pyplot as plt\n",
        "import sklearn\n",
        "import math\n",
        "from sklearn.neural_network import MLPClassifier\n",
        "from sklearn.neural_network import MLPRegressor\n",
        "\n",
        "from sklearn.model_selection import train_test_split\n",
        "from sklearn.metrics import mean_squared_error\n",
        "from math import sqrt\n",
        "from sklearn.metrics import r2_score"
      ],
      "execution_count": null,
      "outputs": []
    },
    {
      "cell_type": "code",
      "metadata": {
        "colab": {
          "base_uri": "https://localhost:8080/",
          "height": 224
        },
        "id": "RdZhuBzhuW5s",
        "outputId": "783c73c0-cfe6-4dd9-b70f-87779f7a9466"
      },
      "source": [
        "df = pd.read_csv('/content/AtRiskStudentsTraining.csv') \n",
        "print(df.shape)\n",
        "df.describe().transpose()"
      ],
      "execution_count": null,
      "outputs": [
        {
          "output_type": "stream",
          "name": "stdout",
          "text": [
            "(1000, 5)\n"
          ]
        },
        {
          "output_type": "execute_result",
          "data": {
            "text/html": [
              "<div>\n",
              "<style scoped>\n",
              "    .dataframe tbody tr th:only-of-type {\n",
              "        vertical-align: middle;\n",
              "    }\n",
              "\n",
              "    .dataframe tbody tr th {\n",
              "        vertical-align: top;\n",
              "    }\n",
              "\n",
              "    .dataframe thead th {\n",
              "        text-align: right;\n",
              "    }\n",
              "</style>\n",
              "<table border=\"1\" class=\"dataframe\">\n",
              "  <thead>\n",
              "    <tr style=\"text-align: right;\">\n",
              "      <th></th>\n",
              "      <th>count</th>\n",
              "      <th>mean</th>\n",
              "      <th>std</th>\n",
              "      <th>min</th>\n",
              "      <th>25%</th>\n",
              "      <th>50%</th>\n",
              "      <th>75%</th>\n",
              "      <th>max</th>\n",
              "    </tr>\n",
              "  </thead>\n",
              "  <tbody>\n",
              "    <tr>\n",
              "      <th>GPA</th>\n",
              "      <td>1000.0</td>\n",
              "      <td>2.02778</td>\n",
              "      <td>1.151075</td>\n",
              "      <td>0.0</td>\n",
              "      <td>1.03</td>\n",
              "      <td>2.05</td>\n",
              "      <td>3.01</td>\n",
              "      <td>4.0</td>\n",
              "    </tr>\n",
              "    <tr>\n",
              "      <th>attendance</th>\n",
              "      <td>1000.0</td>\n",
              "      <td>49.56400</td>\n",
              "      <td>29.000292</td>\n",
              "      <td>0.0</td>\n",
              "      <td>24.00</td>\n",
              "      <td>48.50</td>\n",
              "      <td>75.00</td>\n",
              "      <td>100.0</td>\n",
              "    </tr>\n",
              "    <tr>\n",
              "      <th>duration</th>\n",
              "      <td>1000.0</td>\n",
              "      <td>4963.71400</td>\n",
              "      <td>2878.833669</td>\n",
              "      <td>4.0</td>\n",
              "      <td>2516.75</td>\n",
              "      <td>4760.00</td>\n",
              "      <td>7433.75</td>\n",
              "      <td>9970.0</td>\n",
              "    </tr>\n",
              "    <tr>\n",
              "      <th>language</th>\n",
              "      <td>1000.0</td>\n",
              "      <td>49.90500</td>\n",
              "      <td>29.053469</td>\n",
              "      <td>0.0</td>\n",
              "      <td>25.75</td>\n",
              "      <td>50.50</td>\n",
              "      <td>74.00</td>\n",
              "      <td>100.0</td>\n",
              "    </tr>\n",
              "    <tr>\n",
              "      <th>at-risk</th>\n",
              "      <td>1000.0</td>\n",
              "      <td>0.48700</td>\n",
              "      <td>0.500081</td>\n",
              "      <td>0.0</td>\n",
              "      <td>0.00</td>\n",
              "      <td>0.00</td>\n",
              "      <td>1.00</td>\n",
              "      <td>1.0</td>\n",
              "    </tr>\n",
              "  </tbody>\n",
              "</table>\n",
              "</div>"
            ],
            "text/plain": [
              "             count        mean          std  ...      50%      75%     max\n",
              "GPA         1000.0     2.02778     1.151075  ...     2.05     3.01     4.0\n",
              "attendance  1000.0    49.56400    29.000292  ...    48.50    75.00   100.0\n",
              "duration    1000.0  4963.71400  2878.833669  ...  4760.00  7433.75  9970.0\n",
              "language    1000.0    49.90500    29.053469  ...    50.50    74.00   100.0\n",
              "at-risk     1000.0     0.48700     0.500081  ...     0.00     1.00     1.0\n",
              "\n",
              "[5 rows x 8 columns]"
            ]
          },
          "metadata": {},
          "execution_count": 30
        }
      ]
    },
    {
      "cell_type": "code",
      "metadata": {
        "colab": {
          "base_uri": "https://localhost:8080/",
          "height": 206
        },
        "id": "q-bxUNK1u2FN",
        "outputId": "defe2964-f054-43ed-b35f-afa49ea54345"
      },
      "source": [
        "target_column = ['at-risk'] \n",
        "predictors = list(set(list(df.columns))-set(target_column))\n",
        "df[predictors] = df[predictors]/df[predictors].max()\n",
        "df.describe().transpose()"
      ],
      "execution_count": null,
      "outputs": [
        {
          "output_type": "execute_result",
          "data": {
            "text/html": [
              "<div>\n",
              "<style scoped>\n",
              "    .dataframe tbody tr th:only-of-type {\n",
              "        vertical-align: middle;\n",
              "    }\n",
              "\n",
              "    .dataframe tbody tr th {\n",
              "        vertical-align: top;\n",
              "    }\n",
              "\n",
              "    .dataframe thead th {\n",
              "        text-align: right;\n",
              "    }\n",
              "</style>\n",
              "<table border=\"1\" class=\"dataframe\">\n",
              "  <thead>\n",
              "    <tr style=\"text-align: right;\">\n",
              "      <th></th>\n",
              "      <th>count</th>\n",
              "      <th>mean</th>\n",
              "      <th>std</th>\n",
              "      <th>min</th>\n",
              "      <th>25%</th>\n",
              "      <th>50%</th>\n",
              "      <th>75%</th>\n",
              "      <th>max</th>\n",
              "    </tr>\n",
              "  </thead>\n",
              "  <tbody>\n",
              "    <tr>\n",
              "      <th>GPA</th>\n",
              "      <td>1000.0</td>\n",
              "      <td>0.506945</td>\n",
              "      <td>0.287769</td>\n",
              "      <td>0.000000</td>\n",
              "      <td>0.257500</td>\n",
              "      <td>0.512500</td>\n",
              "      <td>0.752500</td>\n",
              "      <td>1.0</td>\n",
              "    </tr>\n",
              "    <tr>\n",
              "      <th>attendance</th>\n",
              "      <td>1000.0</td>\n",
              "      <td>0.495640</td>\n",
              "      <td>0.290003</td>\n",
              "      <td>0.000000</td>\n",
              "      <td>0.240000</td>\n",
              "      <td>0.485000</td>\n",
              "      <td>0.750000</td>\n",
              "      <td>1.0</td>\n",
              "    </tr>\n",
              "    <tr>\n",
              "      <th>duration</th>\n",
              "      <td>1000.0</td>\n",
              "      <td>0.497865</td>\n",
              "      <td>0.288750</td>\n",
              "      <td>0.000401</td>\n",
              "      <td>0.252432</td>\n",
              "      <td>0.477432</td>\n",
              "      <td>0.745612</td>\n",
              "      <td>1.0</td>\n",
              "    </tr>\n",
              "    <tr>\n",
              "      <th>language</th>\n",
              "      <td>1000.0</td>\n",
              "      <td>0.499050</td>\n",
              "      <td>0.290535</td>\n",
              "      <td>0.000000</td>\n",
              "      <td>0.257500</td>\n",
              "      <td>0.505000</td>\n",
              "      <td>0.740000</td>\n",
              "      <td>1.0</td>\n",
              "    </tr>\n",
              "    <tr>\n",
              "      <th>at-risk</th>\n",
              "      <td>1000.0</td>\n",
              "      <td>0.487000</td>\n",
              "      <td>0.500081</td>\n",
              "      <td>0.000000</td>\n",
              "      <td>0.000000</td>\n",
              "      <td>0.000000</td>\n",
              "      <td>1.000000</td>\n",
              "      <td>1.0</td>\n",
              "    </tr>\n",
              "  </tbody>\n",
              "</table>\n",
              "</div>"
            ],
            "text/plain": [
              "             count      mean       std  ...       50%       75%  max\n",
              "GPA         1000.0  0.506945  0.287769  ...  0.512500  0.752500  1.0\n",
              "attendance  1000.0  0.495640  0.290003  ...  0.485000  0.750000  1.0\n",
              "duration    1000.0  0.497865  0.288750  ...  0.477432  0.745612  1.0\n",
              "language    1000.0  0.499050  0.290535  ...  0.505000  0.740000  1.0\n",
              "at-risk     1000.0  0.487000  0.500081  ...  0.000000  1.000000  1.0\n",
              "\n",
              "[5 rows x 8 columns]"
            ]
          },
          "metadata": {},
          "execution_count": 31
        }
      ]
    },
    {
      "cell_type": "code",
      "metadata": {
        "colab": {
          "base_uri": "https://localhost:8080/"
        },
        "id": "KAQ4DbV9u9rr",
        "outputId": "47342dbf-a05e-4397-e778-3d3467c32348"
      },
      "source": [
        "X = df[predictors].values\n",
        "y = df[target_column].values\n",
        "\n",
        "X_train, X_test, y_train, y_test = train_test_split(X, y, test_size=0.30, random_state=40)\n",
        "print(X_train.shape); print(X_test.shape)"
      ],
      "execution_count": null,
      "outputs": [
        {
          "output_type": "stream",
          "name": "stdout",
          "text": [
            "(700, 4)\n",
            "(300, 4)\n"
          ]
        }
      ]
    },
    {
      "cell_type": "code",
      "metadata": {
        "colab": {
          "base_uri": "https://localhost:8080/"
        },
        "id": "ZQktpDVDvB9z",
        "outputId": "cfd9cf1e-e982-456e-976a-6ffe53844362"
      },
      "source": [
        "from sklearn.neural_network import MLPClassifier\n",
        "\n",
        "mlp = MLPClassifier(hidden_layer_sizes=(8,8,8), activation='relu', solver='adam', max_iter=500)\n",
        "mlp.fit(X_train,y_train)\n",
        "\n",
        "predict_train = mlp.predict(X_train)\n",
        "predict_test = mlp.predict(X_test)"
      ],
      "execution_count": null,
      "outputs": [
        {
          "output_type": "stream",
          "name": "stderr",
          "text": [
            "/usr/local/lib/python3.7/dist-packages/sklearn/neural_network/_multilayer_perceptron.py:1109: DataConversionWarning: A column-vector y was passed when a 1d array was expected. Please change the shape of y to (n_samples, ), for example using ravel().\n",
            "  y = column_or_1d(y, warn=True)\n"
          ]
        }
      ]
    },
    {
      "cell_type": "code",
      "metadata": {
        "colab": {
          "base_uri": "https://localhost:8080/"
        },
        "id": "9vZaMo2wvHMD",
        "outputId": "236a7f6a-8459-48be-e2ea-a64cc30ab268"
      },
      "source": [
        "from sklearn.metrics import classification_report,confusion_matrix\n",
        "print(confusion_matrix(y_train,predict_train))\n",
        "print(classification_report(y_train,predict_train))"
      ],
      "execution_count": null,
      "outputs": [
        {
          "output_type": "stream",
          "name": "stdout",
          "text": [
            "[[189 169]\n",
            " [147 195]]\n",
            "              precision    recall  f1-score   support\n",
            "\n",
            "           0       0.56      0.53      0.54       358\n",
            "           1       0.54      0.57      0.55       342\n",
            "\n",
            "    accuracy                           0.55       700\n",
            "   macro avg       0.55      0.55      0.55       700\n",
            "weighted avg       0.55      0.55      0.55       700\n",
            "\n"
          ]
        }
      ]
    },
    {
      "cell_type": "code",
      "metadata": {
        "colab": {
          "base_uri": "https://localhost:8080/"
        },
        "id": "X5WpyugWvK1J",
        "outputId": "d3ee4097-4f0e-43e1-f955-140d089bd2ba"
      },
      "source": [
        "print(confusion_matrix(y_test,predict_test))\n",
        "print(classification_report(y_test,predict_test))"
      ],
      "execution_count": null,
      "outputs": [
        {
          "output_type": "stream",
          "name": "stdout",
          "text": [
            "[[88 67]\n",
            " [49 96]]\n",
            "              precision    recall  f1-score   support\n",
            "\n",
            "           0       0.64      0.57      0.60       155\n",
            "           1       0.59      0.66      0.62       145\n",
            "\n",
            "    accuracy                           0.61       300\n",
            "   macro avg       0.62      0.61      0.61       300\n",
            "weighted avg       0.62      0.61      0.61       300\n",
            "\n"
          ]
        }
      ]
    },
    {
      "cell_type": "code",
      "metadata": {
        "colab": {
          "base_uri": "https://localhost:8080/",
          "height": 206
        },
        "id": "jcnZpuqr4yTE",
        "outputId": "683d590c-fb80-459a-cd47-c0005a2ef775"
      },
      "source": [
        "df = pd.read_csv('/content/AtRiskStudentsTraining.csv')\n",
        "df.describe().transpose()"
      ],
      "execution_count": null,
      "outputs": [
        {
          "output_type": "execute_result",
          "data": {
            "text/html": [
              "<div>\n",
              "<style scoped>\n",
              "    .dataframe tbody tr th:only-of-type {\n",
              "        vertical-align: middle;\n",
              "    }\n",
              "\n",
              "    .dataframe tbody tr th {\n",
              "        vertical-align: top;\n",
              "    }\n",
              "\n",
              "    .dataframe thead th {\n",
              "        text-align: right;\n",
              "    }\n",
              "</style>\n",
              "<table border=\"1\" class=\"dataframe\">\n",
              "  <thead>\n",
              "    <tr style=\"text-align: right;\">\n",
              "      <th></th>\n",
              "      <th>count</th>\n",
              "      <th>mean</th>\n",
              "      <th>std</th>\n",
              "      <th>min</th>\n",
              "      <th>25%</th>\n",
              "      <th>50%</th>\n",
              "      <th>75%</th>\n",
              "      <th>max</th>\n",
              "    </tr>\n",
              "  </thead>\n",
              "  <tbody>\n",
              "    <tr>\n",
              "      <th>GPA</th>\n",
              "      <td>1000.0</td>\n",
              "      <td>2.02778</td>\n",
              "      <td>1.151075</td>\n",
              "      <td>0.0</td>\n",
              "      <td>1.03</td>\n",
              "      <td>2.05</td>\n",
              "      <td>3.01</td>\n",
              "      <td>4.0</td>\n",
              "    </tr>\n",
              "    <tr>\n",
              "      <th>attendance</th>\n",
              "      <td>1000.0</td>\n",
              "      <td>49.56400</td>\n",
              "      <td>29.000292</td>\n",
              "      <td>0.0</td>\n",
              "      <td>24.00</td>\n",
              "      <td>48.50</td>\n",
              "      <td>75.00</td>\n",
              "      <td>100.0</td>\n",
              "    </tr>\n",
              "    <tr>\n",
              "      <th>duration</th>\n",
              "      <td>1000.0</td>\n",
              "      <td>4963.71400</td>\n",
              "      <td>2878.833669</td>\n",
              "      <td>4.0</td>\n",
              "      <td>2516.75</td>\n",
              "      <td>4760.00</td>\n",
              "      <td>7433.75</td>\n",
              "      <td>9970.0</td>\n",
              "    </tr>\n",
              "    <tr>\n",
              "      <th>language</th>\n",
              "      <td>1000.0</td>\n",
              "      <td>49.90500</td>\n",
              "      <td>29.053469</td>\n",
              "      <td>0.0</td>\n",
              "      <td>25.75</td>\n",
              "      <td>50.50</td>\n",
              "      <td>74.00</td>\n",
              "      <td>100.0</td>\n",
              "    </tr>\n",
              "    <tr>\n",
              "      <th>at-risk</th>\n",
              "      <td>1000.0</td>\n",
              "      <td>0.48700</td>\n",
              "      <td>0.500081</td>\n",
              "      <td>0.0</td>\n",
              "      <td>0.00</td>\n",
              "      <td>0.00</td>\n",
              "      <td>1.00</td>\n",
              "      <td>1.0</td>\n",
              "    </tr>\n",
              "  </tbody>\n",
              "</table>\n",
              "</div>"
            ],
            "text/plain": [
              "             count        mean          std  ...      50%      75%     max\n",
              "GPA         1000.0     2.02778     1.151075  ...     2.05     3.01     4.0\n",
              "attendance  1000.0    49.56400    29.000292  ...    48.50    75.00   100.0\n",
              "duration    1000.0  4963.71400  2878.833669  ...  4760.00  7433.75  9970.0\n",
              "language    1000.0    49.90500    29.053469  ...    50.50    74.00   100.0\n",
              "at-risk     1000.0     0.48700     0.500081  ...     0.00     1.00     1.0\n",
              "\n",
              "[5 rows x 8 columns]"
            ]
          },
          "metadata": {},
          "execution_count": 36
        }
      ]
    },
    {
      "cell_type": "code",
      "metadata": {
        "colab": {
          "base_uri": "https://localhost:8080/",
          "height": 206
        },
        "id": "lg02g8nh4yNm",
        "outputId": "f6f08ef2-9ea5-4402-85f5-4d4dffecadd0"
      },
      "source": [
        "target_column = ['at-risk'] \n",
        "predictors = list(set(list(df.columns))-set(target_column))\n",
        "df[predictors] = df[predictors]/df[predictors].max()\n",
        "df.describe().transpose()"
      ],
      "execution_count": null,
      "outputs": [
        {
          "output_type": "execute_result",
          "data": {
            "text/html": [
              "<div>\n",
              "<style scoped>\n",
              "    .dataframe tbody tr th:only-of-type {\n",
              "        vertical-align: middle;\n",
              "    }\n",
              "\n",
              "    .dataframe tbody tr th {\n",
              "        vertical-align: top;\n",
              "    }\n",
              "\n",
              "    .dataframe thead th {\n",
              "        text-align: right;\n",
              "    }\n",
              "</style>\n",
              "<table border=\"1\" class=\"dataframe\">\n",
              "  <thead>\n",
              "    <tr style=\"text-align: right;\">\n",
              "      <th></th>\n",
              "      <th>count</th>\n",
              "      <th>mean</th>\n",
              "      <th>std</th>\n",
              "      <th>min</th>\n",
              "      <th>25%</th>\n",
              "      <th>50%</th>\n",
              "      <th>75%</th>\n",
              "      <th>max</th>\n",
              "    </tr>\n",
              "  </thead>\n",
              "  <tbody>\n",
              "    <tr>\n",
              "      <th>GPA</th>\n",
              "      <td>1000.0</td>\n",
              "      <td>0.506945</td>\n",
              "      <td>0.287769</td>\n",
              "      <td>0.000000</td>\n",
              "      <td>0.257500</td>\n",
              "      <td>0.512500</td>\n",
              "      <td>0.752500</td>\n",
              "      <td>1.0</td>\n",
              "    </tr>\n",
              "    <tr>\n",
              "      <th>attendance</th>\n",
              "      <td>1000.0</td>\n",
              "      <td>0.495640</td>\n",
              "      <td>0.290003</td>\n",
              "      <td>0.000000</td>\n",
              "      <td>0.240000</td>\n",
              "      <td>0.485000</td>\n",
              "      <td>0.750000</td>\n",
              "      <td>1.0</td>\n",
              "    </tr>\n",
              "    <tr>\n",
              "      <th>duration</th>\n",
              "      <td>1000.0</td>\n",
              "      <td>0.497865</td>\n",
              "      <td>0.288750</td>\n",
              "      <td>0.000401</td>\n",
              "      <td>0.252432</td>\n",
              "      <td>0.477432</td>\n",
              "      <td>0.745612</td>\n",
              "      <td>1.0</td>\n",
              "    </tr>\n",
              "    <tr>\n",
              "      <th>language</th>\n",
              "      <td>1000.0</td>\n",
              "      <td>0.499050</td>\n",
              "      <td>0.290535</td>\n",
              "      <td>0.000000</td>\n",
              "      <td>0.257500</td>\n",
              "      <td>0.505000</td>\n",
              "      <td>0.740000</td>\n",
              "      <td>1.0</td>\n",
              "    </tr>\n",
              "    <tr>\n",
              "      <th>at-risk</th>\n",
              "      <td>1000.0</td>\n",
              "      <td>0.487000</td>\n",
              "      <td>0.500081</td>\n",
              "      <td>0.000000</td>\n",
              "      <td>0.000000</td>\n",
              "      <td>0.000000</td>\n",
              "      <td>1.000000</td>\n",
              "      <td>1.0</td>\n",
              "    </tr>\n",
              "  </tbody>\n",
              "</table>\n",
              "</div>"
            ],
            "text/plain": [
              "             count      mean       std  ...       50%       75%  max\n",
              "GPA         1000.0  0.506945  0.287769  ...  0.512500  0.752500  1.0\n",
              "attendance  1000.0  0.495640  0.290003  ...  0.485000  0.750000  1.0\n",
              "duration    1000.0  0.497865  0.288750  ...  0.477432  0.745612  1.0\n",
              "language    1000.0  0.499050  0.290535  ...  0.505000  0.740000  1.0\n",
              "at-risk     1000.0  0.487000  0.500081  ...  0.000000  1.000000  1.0\n",
              "\n",
              "[5 rows x 8 columns]"
            ]
          },
          "metadata": {},
          "execution_count": 37
        }
      ]
    },
    {
      "cell_type": "code",
      "metadata": {
        "colab": {
          "base_uri": "https://localhost:8080/"
        },
        "id": "JPpciTjr6zqR",
        "outputId": "9799c692-70d9-4103-cbc8-f639f58d5a35"
      },
      "source": [
        "print(math.erf(0.506945))\n",
        "print(math.erf(0.495640))\n",
        "print(math.erf(0.497865))\n",
        "print(math.erf(0.499050))\n",
        "print(math.erf(0.487000))"
      ],
      "execution_count": null,
      "outputs": [
        {
          "output_type": "stream",
          "name": "stdout",
          "text": [
            "0.5265817810165464\n",
            "0.516660045321567\n",
            "0.51862167559182\n",
            "0.5196646379381425\n",
            "0.5090017741658318\n"
          ]
        }
      ]
    },
    {
      "cell_type": "code",
      "metadata": {
        "colab": {
          "base_uri": "https://localhost:8080/"
        },
        "id": "_7jWXVsS4yLM",
        "outputId": "36599f1e-ae4d-4ebc-ba17-8b384ee43889"
      },
      "source": [
        "X = df[predictors].values\n",
        "y = df[target_column].values\n",
        "\n",
        "X_train, X_test, y_train, y_test = train_test_split(X, y, test_size=0.30, random_state=40)\n",
        "print(X_train.shape); print(X_test.shape)"
      ],
      "execution_count": null,
      "outputs": [
        {
          "output_type": "stream",
          "name": "stdout",
          "text": [
            "(700, 4)\n",
            "(300, 4)\n"
          ]
        }
      ]
    },
    {
      "cell_type": "code",
      "metadata": {
        "colab": {
          "base_uri": "https://localhost:8080/"
        },
        "id": "cHkZiZn64yJA",
        "outputId": "f66616e5-5543-472b-cc5c-cd7560d5df97"
      },
      "source": [
        "from sklearn.neural_network import MLPClassifier\n",
        "\n",
        "mlp = MLPClassifier(hidden_layer_sizes=(8,8,8), activation='relu', solver='adam', max_iter=500)\n",
        "mlp.fit(X_train,y_train)\n",
        "\n",
        "predict_train = mlp.predict(X_train)\n",
        "predict_test = mlp.predict(X_test)"
      ],
      "execution_count": null,
      "outputs": [
        {
          "output_type": "stream",
          "name": "stderr",
          "text": [
            "/usr/local/lib/python3.7/dist-packages/sklearn/neural_network/_multilayer_perceptron.py:1109: DataConversionWarning: A column-vector y was passed when a 1d array was expected. Please change the shape of y to (n_samples, ), for example using ravel().\n",
            "  y = column_or_1d(y, warn=True)\n"
          ]
        }
      ]
    },
    {
      "cell_type": "code",
      "metadata": {
        "colab": {
          "base_uri": "https://localhost:8080/"
        },
        "id": "IHBmWZPr4yGa",
        "outputId": "21b50300-aed4-4012-8143-6befe191ecfd"
      },
      "source": [
        "from sklearn.metrics import classification_report,confusion_matrix\n",
        "print(confusion_matrix(y_train,predict_train))\n",
        "print(classification_report(y_train,predict_train))"
      ],
      "execution_count": null,
      "outputs": [
        {
          "output_type": "stream",
          "name": "stdout",
          "text": [
            "[[205 153]\n",
            " [173 169]]\n",
            "              precision    recall  f1-score   support\n",
            "\n",
            "           0       0.54      0.57      0.56       358\n",
            "           1       0.52      0.49      0.51       342\n",
            "\n",
            "    accuracy                           0.53       700\n",
            "   macro avg       0.53      0.53      0.53       700\n",
            "weighted avg       0.53      0.53      0.53       700\n",
            "\n"
          ]
        }
      ]
    },
    {
      "cell_type": "code",
      "metadata": {
        "colab": {
          "base_uri": "https://localhost:8080/"
        },
        "id": "ZwVLx3re4yDW",
        "outputId": "21a08b80-d1ac-4729-a888-1424db45ab40"
      },
      "source": [
        "print(confusion_matrix(y_test,predict_test))\n",
        "print(classification_report(y_test,predict_test))"
      ],
      "execution_count": null,
      "outputs": [
        {
          "output_type": "stream",
          "name": "stdout",
          "text": [
            "[[92 63]\n",
            " [64 81]]\n",
            "              precision    recall  f1-score   support\n",
            "\n",
            "           0       0.59      0.59      0.59       155\n",
            "           1       0.56      0.56      0.56       145\n",
            "\n",
            "    accuracy                           0.58       300\n",
            "   macro avg       0.58      0.58      0.58       300\n",
            "weighted avg       0.58      0.58      0.58       300\n",
            "\n"
          ]
        }
      ]
    },
    {
      "cell_type": "markdown",
      "metadata": {
        "id": "CVoCDvSE5M-j"
      },
      "source": [
        "The math error fuction of the mean are 0.5265817810165464,\n",
        "0.516660045321567,\n",
        "0.51862167559182,\n",
        "0.5196646379381425 and\n",
        "0.5090017741658318.\n"
      ]
    },
    {
      "cell_type": "markdown",
      "metadata": {
        "id": "eqw3-ylf7XB7"
      },
      "source": [
        "# An Association Analysis of Shopping Transactions"
      ]
    },
    {
      "cell_type": "code",
      "metadata": {
        "id": "iqHt8Ytr7bO_"
      },
      "source": [
        "import numpy as np\n",
        "import matplotlib.pyplot as plt\n",
        "import pandas as pd\n",
        "from mlxtend.frequent_patterns import association_rules, apriori\n",
        "from mlxtend.preprocessing import TransactionEncoder"
      ],
      "execution_count": null,
      "outputs": []
    },
    {
      "cell_type": "code",
      "metadata": {
        "colab": {
          "base_uri": "https://localhost:8080/",
          "height": 206
        },
        "id": "XXJNpPrz7uX4",
        "outputId": "fa8e26c2-529a-43c2-d492-67d6e23edd8a"
      },
      "source": [
        "df=pd.read_csv('/content/shoppingtransactions.csv', header=None)\n",
        "df.head()"
      ],
      "execution_count": null,
      "outputs": [
        {
          "output_type": "execute_result",
          "data": {
            "text/html": [
              "<div>\n",
              "<style scoped>\n",
              "    .dataframe tbody tr th:only-of-type {\n",
              "        vertical-align: middle;\n",
              "    }\n",
              "\n",
              "    .dataframe tbody tr th {\n",
              "        vertical-align: top;\n",
              "    }\n",
              "\n",
              "    .dataframe thead th {\n",
              "        text-align: right;\n",
              "    }\n",
              "</style>\n",
              "<table border=\"1\" class=\"dataframe\">\n",
              "  <thead>\n",
              "    <tr style=\"text-align: right;\">\n",
              "      <th></th>\n",
              "      <th>0</th>\n",
              "      <th>1</th>\n",
              "      <th>2</th>\n",
              "      <th>3</th>\n",
              "      <th>4</th>\n",
              "      <th>5</th>\n",
              "      <th>6</th>\n",
              "      <th>7</th>\n",
              "      <th>8</th>\n",
              "      <th>9</th>\n",
              "      <th>10</th>\n",
              "      <th>11</th>\n",
              "      <th>12</th>\n",
              "      <th>13</th>\n",
              "      <th>14</th>\n",
              "      <th>15</th>\n",
              "      <th>16</th>\n",
              "      <th>17</th>\n",
              "      <th>18</th>\n",
              "      <th>19</th>\n",
              "    </tr>\n",
              "  </thead>\n",
              "  <tbody>\n",
              "    <tr>\n",
              "      <th>0</th>\n",
              "      <td>shrimp</td>\n",
              "      <td>almonds</td>\n",
              "      <td>avocado</td>\n",
              "      <td>vegetables mix</td>\n",
              "      <td>green grapes</td>\n",
              "      <td>whole weat flour</td>\n",
              "      <td>yams</td>\n",
              "      <td>cottage cheese</td>\n",
              "      <td>energy drink</td>\n",
              "      <td>tomato juice</td>\n",
              "      <td>low fat yogurt</td>\n",
              "      <td>green tea</td>\n",
              "      <td>honey</td>\n",
              "      <td>salad</td>\n",
              "      <td>mineral water</td>\n",
              "      <td>salmon</td>\n",
              "      <td>antioxydant juice</td>\n",
              "      <td>frozen smoothie</td>\n",
              "      <td>spinach</td>\n",
              "      <td>olive oil</td>\n",
              "    </tr>\n",
              "    <tr>\n",
              "      <th>1</th>\n",
              "      <td>burgers</td>\n",
              "      <td>meatballs</td>\n",
              "      <td>eggs</td>\n",
              "      <td>NaN</td>\n",
              "      <td>NaN</td>\n",
              "      <td>NaN</td>\n",
              "      <td>NaN</td>\n",
              "      <td>NaN</td>\n",
              "      <td>NaN</td>\n",
              "      <td>NaN</td>\n",
              "      <td>NaN</td>\n",
              "      <td>NaN</td>\n",
              "      <td>NaN</td>\n",
              "      <td>NaN</td>\n",
              "      <td>NaN</td>\n",
              "      <td>NaN</td>\n",
              "      <td>NaN</td>\n",
              "      <td>NaN</td>\n",
              "      <td>NaN</td>\n",
              "      <td>NaN</td>\n",
              "    </tr>\n",
              "    <tr>\n",
              "      <th>2</th>\n",
              "      <td>chutney</td>\n",
              "      <td>NaN</td>\n",
              "      <td>NaN</td>\n",
              "      <td>NaN</td>\n",
              "      <td>NaN</td>\n",
              "      <td>NaN</td>\n",
              "      <td>NaN</td>\n",
              "      <td>NaN</td>\n",
              "      <td>NaN</td>\n",
              "      <td>NaN</td>\n",
              "      <td>NaN</td>\n",
              "      <td>NaN</td>\n",
              "      <td>NaN</td>\n",
              "      <td>NaN</td>\n",
              "      <td>NaN</td>\n",
              "      <td>NaN</td>\n",
              "      <td>NaN</td>\n",
              "      <td>NaN</td>\n",
              "      <td>NaN</td>\n",
              "      <td>NaN</td>\n",
              "    </tr>\n",
              "    <tr>\n",
              "      <th>3</th>\n",
              "      <td>turkey</td>\n",
              "      <td>avocado</td>\n",
              "      <td>NaN</td>\n",
              "      <td>NaN</td>\n",
              "      <td>NaN</td>\n",
              "      <td>NaN</td>\n",
              "      <td>NaN</td>\n",
              "      <td>NaN</td>\n",
              "      <td>NaN</td>\n",
              "      <td>NaN</td>\n",
              "      <td>NaN</td>\n",
              "      <td>NaN</td>\n",
              "      <td>NaN</td>\n",
              "      <td>NaN</td>\n",
              "      <td>NaN</td>\n",
              "      <td>NaN</td>\n",
              "      <td>NaN</td>\n",
              "      <td>NaN</td>\n",
              "      <td>NaN</td>\n",
              "      <td>NaN</td>\n",
              "    </tr>\n",
              "    <tr>\n",
              "      <th>4</th>\n",
              "      <td>mineral water</td>\n",
              "      <td>milk</td>\n",
              "      <td>energy bar</td>\n",
              "      <td>whole wheat rice</td>\n",
              "      <td>green tea</td>\n",
              "      <td>NaN</td>\n",
              "      <td>NaN</td>\n",
              "      <td>NaN</td>\n",
              "      <td>NaN</td>\n",
              "      <td>NaN</td>\n",
              "      <td>NaN</td>\n",
              "      <td>NaN</td>\n",
              "      <td>NaN</td>\n",
              "      <td>NaN</td>\n",
              "      <td>NaN</td>\n",
              "      <td>NaN</td>\n",
              "      <td>NaN</td>\n",
              "      <td>NaN</td>\n",
              "      <td>NaN</td>\n",
              "      <td>NaN</td>\n",
              "    </tr>\n",
              "  </tbody>\n",
              "</table>\n",
              "</div>"
            ],
            "text/plain": [
              "              0          1           2   ...               17       18         19\n",
              "0         shrimp    almonds     avocado  ...  frozen smoothie  spinach  olive oil\n",
              "1        burgers  meatballs        eggs  ...              NaN      NaN        NaN\n",
              "2        chutney        NaN         NaN  ...              NaN      NaN        NaN\n",
              "3         turkey    avocado         NaN  ...              NaN      NaN        NaN\n",
              "4  mineral water       milk  energy bar  ...              NaN      NaN        NaN\n",
              "\n",
              "[5 rows x 20 columns]"
            ]
          },
          "metadata": {},
          "execution_count": 58
        }
      ]
    },
    {
      "cell_type": "code",
      "metadata": {
        "id": "K-FgFwu48KlJ"
      },
      "source": [
        "df['Transactions'] = df[df.columns[0:]].apply(\n",
        "    lambda x: ','.join(x.dropna().astype(str)),\n",
        "    axis=1\n",
        ")"
      ],
      "execution_count": null,
      "outputs": []
    },
    {
      "cell_type": "code",
      "metadata": {
        "colab": {
          "base_uri": "https://localhost:8080/",
          "height": 206
        },
        "id": "wPUxKkr68Qx2",
        "outputId": "a854d5a2-1c77-496d-b70e-49178484930b"
      },
      "source": [
        "df.drop(df.columns[0:20], axis=1, inplace=True)\n",
        "df.head()"
      ],
      "execution_count": null,
      "outputs": [
        {
          "output_type": "execute_result",
          "data": {
            "text/html": [
              "<div>\n",
              "<style scoped>\n",
              "    .dataframe tbody tr th:only-of-type {\n",
              "        vertical-align: middle;\n",
              "    }\n",
              "\n",
              "    .dataframe tbody tr th {\n",
              "        vertical-align: top;\n",
              "    }\n",
              "\n",
              "    .dataframe thead th {\n",
              "        text-align: right;\n",
              "    }\n",
              "</style>\n",
              "<table border=\"1\" class=\"dataframe\">\n",
              "  <thead>\n",
              "    <tr style=\"text-align: right;\">\n",
              "      <th></th>\n",
              "      <th>Transactions</th>\n",
              "    </tr>\n",
              "  </thead>\n",
              "  <tbody>\n",
              "    <tr>\n",
              "      <th>0</th>\n",
              "      <td>shrimp,almonds,avocado,vegetables mix,green gr...</td>\n",
              "    </tr>\n",
              "    <tr>\n",
              "      <th>1</th>\n",
              "      <td>burgers,meatballs,eggs</td>\n",
              "    </tr>\n",
              "    <tr>\n",
              "      <th>2</th>\n",
              "      <td>chutney</td>\n",
              "    </tr>\n",
              "    <tr>\n",
              "      <th>3</th>\n",
              "      <td>turkey,avocado</td>\n",
              "    </tr>\n",
              "    <tr>\n",
              "      <th>4</th>\n",
              "      <td>mineral water,milk,energy bar,whole wheat rice...</td>\n",
              "    </tr>\n",
              "  </tbody>\n",
              "</table>\n",
              "</div>"
            ],
            "text/plain": [
              "                                        Transactions\n",
              "0  shrimp,almonds,avocado,vegetables mix,green gr...\n",
              "1                             burgers,meatballs,eggs\n",
              "2                                            chutney\n",
              "3                                     turkey,avocado\n",
              "4  mineral water,milk,energy bar,whole wheat rice..."
            ]
          },
          "metadata": {},
          "execution_count": 60
        }
      ]
    },
    {
      "cell_type": "code",
      "metadata": {
        "colab": {
          "base_uri": "https://localhost:8080/",
          "height": 362
        },
        "id": "NQBkJvtB8aDR",
        "outputId": "b0c9187b-90cb-4289-ca44-037a1da3bcbf"
      },
      "source": [
        "transcactions = list(df['Transactions'].apply(lambda x: sorted(x.split(','))))\n",
        "encoder = TransactionEncoder().fit(transcactions)\n",
        "onehot = encoder.transform(transcactions)\n",
        "onehot = pd.DataFrame(onehot, columns=encoder.columns_)\n",
        "frequent_itemsets = apriori(onehot, min_support = 0.001, max_len = 3, use_colnames=True)\n",
        "rules = association_rules(frequent_itemsets, metric=\"lift\", min_threshold=1)\n",
        "rules['lhs items'] = rules['antecedents'].apply(lambda x:len(x) )\n",
        "rules[rules['lhs items']>1].sort_values('lift', ascending=False).head(10)"
      ],
      "execution_count": null,
      "outputs": [
        {
          "output_type": "execute_result",
          "data": {
            "text/html": [
              "<div>\n",
              "<style scoped>\n",
              "    .dataframe tbody tr th:only-of-type {\n",
              "        vertical-align: middle;\n",
              "    }\n",
              "\n",
              "    .dataframe tbody tr th {\n",
              "        vertical-align: top;\n",
              "    }\n",
              "\n",
              "    .dataframe thead th {\n",
              "        text-align: right;\n",
              "    }\n",
              "</style>\n",
              "<table border=\"1\" class=\"dataframe\">\n",
              "  <thead>\n",
              "    <tr style=\"text-align: right;\">\n",
              "      <th></th>\n",
              "      <th>antecedents</th>\n",
              "      <th>consequents</th>\n",
              "      <th>antecedent support</th>\n",
              "      <th>consequent support</th>\n",
              "      <th>support</th>\n",
              "      <th>confidence</th>\n",
              "      <th>lift</th>\n",
              "      <th>leverage</th>\n",
              "      <th>conviction</th>\n",
              "      <th>lhs items</th>\n",
              "    </tr>\n",
              "  </thead>\n",
              "  <tbody>\n",
              "    <tr>\n",
              "      <th>17246</th>\n",
              "      <td>(honey, fresh tuna)</td>\n",
              "      <td>(fromage blanc)</td>\n",
              "      <td>0.003999</td>\n",
              "      <td>0.013598</td>\n",
              "      <td>0.001600</td>\n",
              "      <td>0.400000</td>\n",
              "      <td>29.415686</td>\n",
              "      <td>0.001545</td>\n",
              "      <td>1.644003</td>\n",
              "      <td>2</td>\n",
              "    </tr>\n",
              "    <tr>\n",
              "      <th>12622</th>\n",
              "      <td>(cookies, low fat yogurt)</td>\n",
              "      <td>(shallot)</td>\n",
              "      <td>0.005333</td>\n",
              "      <td>0.007732</td>\n",
              "      <td>0.001200</td>\n",
              "      <td>0.225000</td>\n",
              "      <td>29.098707</td>\n",
              "      <td>0.001159</td>\n",
              "      <td>1.280345</td>\n",
              "      <td>2</td>\n",
              "    </tr>\n",
              "    <tr>\n",
              "      <th>15565</th>\n",
              "      <td>(escalope, mushroom cream sauce)</td>\n",
              "      <td>(pasta)</td>\n",
              "      <td>0.005733</td>\n",
              "      <td>0.015731</td>\n",
              "      <td>0.002533</td>\n",
              "      <td>0.441860</td>\n",
              "      <td>28.088096</td>\n",
              "      <td>0.002443</td>\n",
              "      <td>1.763482</td>\n",
              "      <td>2</td>\n",
              "    </tr>\n",
              "    <tr>\n",
              "      <th>15564</th>\n",
              "      <td>(escalope, pasta)</td>\n",
              "      <td>(mushroom cream sauce)</td>\n",
              "      <td>0.005866</td>\n",
              "      <td>0.019064</td>\n",
              "      <td>0.002533</td>\n",
              "      <td>0.431818</td>\n",
              "      <td>22.650826</td>\n",
              "      <td>0.002421</td>\n",
              "      <td>1.726447</td>\n",
              "      <td>2</td>\n",
              "    </tr>\n",
              "    <tr>\n",
              "      <th>17244</th>\n",
              "      <td>(fromage blanc, honey)</td>\n",
              "      <td>(fresh tuna)</td>\n",
              "      <td>0.003333</td>\n",
              "      <td>0.022264</td>\n",
              "      <td>0.001600</td>\n",
              "      <td>0.480000</td>\n",
              "      <td>21.559760</td>\n",
              "      <td>0.001526</td>\n",
              "      <td>1.880262</td>\n",
              "      <td>2</td>\n",
              "    </tr>\n",
              "    <tr>\n",
              "      <th>16620</th>\n",
              "      <td>(french fries, pasta)</td>\n",
              "      <td>(mushroom cream sauce)</td>\n",
              "      <td>0.003066</td>\n",
              "      <td>0.019064</td>\n",
              "      <td>0.001067</td>\n",
              "      <td>0.347826</td>\n",
              "      <td>18.245059</td>\n",
              "      <td>0.001008</td>\n",
              "      <td>1.504102</td>\n",
              "      <td>2</td>\n",
              "    </tr>\n",
              "    <tr>\n",
              "      <th>12275</th>\n",
              "      <td>(red wine, chocolate)</td>\n",
              "      <td>(tomato sauce)</td>\n",
              "      <td>0.004933</td>\n",
              "      <td>0.014131</td>\n",
              "      <td>0.001067</td>\n",
              "      <td>0.216216</td>\n",
              "      <td>15.300357</td>\n",
              "      <td>0.000997</td>\n",
              "      <td>1.257832</td>\n",
              "      <td>2</td>\n",
              "    </tr>\n",
              "    <tr>\n",
              "      <th>16621</th>\n",
              "      <td>(french fries, mushroom cream sauce)</td>\n",
              "      <td>(pasta)</td>\n",
              "      <td>0.004666</td>\n",
              "      <td>0.015731</td>\n",
              "      <td>0.001067</td>\n",
              "      <td>0.228571</td>\n",
              "      <td>14.529782</td>\n",
              "      <td>0.000993</td>\n",
              "      <td>1.275904</td>\n",
              "      <td>2</td>\n",
              "    </tr>\n",
              "    <tr>\n",
              "      <th>17245</th>\n",
              "      <td>(fromage blanc, fresh tuna)</td>\n",
              "      <td>(honey)</td>\n",
              "      <td>0.002400</td>\n",
              "      <td>0.047460</td>\n",
              "      <td>0.001600</td>\n",
              "      <td>0.666667</td>\n",
              "      <td>14.046816</td>\n",
              "      <td>0.001486</td>\n",
              "      <td>2.857619</td>\n",
              "      <td>2</td>\n",
              "    </tr>\n",
              "    <tr>\n",
              "      <th>13968</th>\n",
              "      <td>(honey, eggs)</td>\n",
              "      <td>(fromage blanc)</td>\n",
              "      <td>0.005733</td>\n",
              "      <td>0.013598</td>\n",
              "      <td>0.001067</td>\n",
              "      <td>0.186047</td>\n",
              "      <td>13.681715</td>\n",
              "      <td>0.000989</td>\n",
              "      <td>1.211865</td>\n",
              "      <td>2</td>\n",
              "    </tr>\n",
              "  </tbody>\n",
              "</table>\n",
              "</div>"
            ],
            "text/plain": [
              "                                antecedents  ... lhs items\n",
              "17246                   (honey, fresh tuna)  ...         2\n",
              "12622             (cookies, low fat yogurt)  ...         2\n",
              "15565      (escalope, mushroom cream sauce)  ...         2\n",
              "15564                     (escalope, pasta)  ...         2\n",
              "17244                (fromage blanc, honey)  ...         2\n",
              "16620                 (french fries, pasta)  ...         2\n",
              "12275                 (red wine, chocolate)  ...         2\n",
              "16621  (french fries, mushroom cream sauce)  ...         2\n",
              "17245           (fromage blanc, fresh tuna)  ...         2\n",
              "13968                         (honey, eggs)  ...         2\n",
              "\n",
              "[10 rows x 10 columns]"
            ]
          },
          "metadata": {},
          "execution_count": 61
        }
      ]
    }
  ]
}